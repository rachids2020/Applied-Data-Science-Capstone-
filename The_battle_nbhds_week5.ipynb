{
 "cells": [
  {
   "cell_type": "markdown",
   "metadata": {},
   "source": [
    "First i will install and import all important libraries "
   ]
  },
  {
   "cell_type": "code",
   "execution_count": 1,
   "metadata": {},
   "outputs": [
    {
     "name": "stdout",
     "output_type": "stream",
     "text": [
      "Collecting package metadata (current_repodata.json): done\n",
      "Solving environment: done\n",
      "\n",
      "\n",
      "==> WARNING: A newer version of conda exists. <==\n",
      "  current version: 4.8.3\n",
      "  latest version: 4.8.4\n",
      "\n",
      "Please update conda by running\n",
      "\n",
      "    $ conda update -n base -c defaults conda\n",
      "\n",
      "\n",
      "\n",
      "## Package Plan ##\n",
      "\n",
      "  environment location: /home/jupyterlab/conda/envs/python\n",
      "\n",
      "  added / updated specs:\n",
      "    - geopy\n",
      "\n",
      "\n",
      "The following packages will be downloaded:\n",
      "\n",
      "    package                    |            build\n",
      "    ---------------------------|-----------------\n",
      "    geographiclib-1.50         |             py_0          34 KB  conda-forge\n",
      "    geopy-2.0.0                |     pyh9f0ad1d_0          63 KB  conda-forge\n",
      "    openssl-1.1.1g             |       h516909a_1         2.1 MB  conda-forge\n",
      "    ------------------------------------------------------------\n",
      "                                           Total:         2.2 MB\n",
      "\n",
      "The following NEW packages will be INSTALLED:\n",
      "\n",
      "  geographiclib      conda-forge/noarch::geographiclib-1.50-py_0\n",
      "  geopy              conda-forge/noarch::geopy-2.0.0-pyh9f0ad1d_0\n",
      "\n",
      "The following packages will be UPDATED:\n",
      "\n",
      "  openssl                                 1.1.1g-h516909a_0 --> 1.1.1g-h516909a_1\n",
      "\n",
      "\n",
      "\n",
      "Downloading and Extracting Packages\n",
      "openssl-1.1.1g       | 2.1 MB    | ##################################### | 100% \n",
      "geopy-2.0.0          | 63 KB     | ##################################### | 100% \n",
      "geographiclib-1.50   | 34 KB     | ##################################### | 100% \n",
      "Preparing transaction: done\n",
      "Verifying transaction: done\n",
      "Executing transaction: done\n",
      "Libraries imported.\n"
     ]
    }
   ],
   "source": [
    "import numpy as np # library to handle data in a vectorized manner\n",
    "\n",
    "import pandas as pd # library for data analsysis\n",
    "pd.set_option('display.max_columns', None)\n",
    "pd.set_option('display.max_rows', None)\n",
    "\n",
    "import json # library to handle JSON files\n",
    "!conda install -c conda-forge geopy --yes \n",
    "from geopy.geocoders import Nominatim # convert an address into latitude and longitude values\n",
    "\n",
    "import requests # library to handle requests\n",
    "from pandas.io.json import json_normalize # tranform JSON file into a pandas dataframe\n",
    "\n",
    "# Matplotlib and associated plotting modules\n",
    "import matplotlib.pyplot as plt\n",
    "import matplotlib.cm as cm\n",
    "import matplotlib.colors as colors\n",
    "%matplotlib inline\n",
    "\n",
    "import folium # map rendering library\n",
    "\n",
    "print('Libraries imported.')"
   ]
  },
  {
   "cell_type": "markdown",
   "metadata": {},
   "source": [
    "Extract data from newyork_data.json"
   ]
  },
  {
   "cell_type": "code",
   "execution_count": 2,
   "metadata": {},
   "outputs": [],
   "source": [
    "with open('newyork_data.json') as json_data:\n",
    "    newyork_data = json.load(json_data)"
   ]
  },
  {
   "cell_type": "code",
   "execution_count": 3,
   "metadata": {},
   "outputs": [],
   "source": [
    "neighborhoods_data = newyork_data['features']"
   ]
  },
  {
   "cell_type": "code",
   "execution_count": 4,
   "metadata": {},
   "outputs": [
    {
     "data": {
      "text/plain": [
       "{'type': 'Feature',\n",
       " 'id': 'nyu_2451_34572.1',\n",
       " 'geometry': {'type': 'Point',\n",
       "  'coordinates': [-73.84720052054902, 40.89470517661]},\n",
       " 'geometry_name': 'geom',\n",
       " 'properties': {'name': 'Wakefield',\n",
       "  'stacked': 1,\n",
       "  'annoline1': 'Wakefield',\n",
       "  'annoline2': None,\n",
       "  'annoline3': None,\n",
       "  'annoangle': 0.0,\n",
       "  'borough': 'Bronx',\n",
       "  'bbox': [-73.84720052054902,\n",
       "   40.89470517661,\n",
       "   -73.84720052054902,\n",
       "   40.89470517661]}}"
      ]
     },
     "execution_count": 4,
     "metadata": {},
     "output_type": "execute_result"
    }
   ],
   "source": [
    "neighborhoods_data[0]"
   ]
  },
  {
   "cell_type": "markdown",
   "metadata": {},
   "source": [
    "Convert json to dataframe"
   ]
  },
  {
   "cell_type": "code",
   "execution_count": 5,
   "metadata": {},
   "outputs": [],
   "source": [
    "# define the dataframe columns\n",
    "column_names = ['Borough', 'Neighborhood', 'Latitude', 'Longitude'] \n",
    "\n",
    "# instantiate the dataframe\n",
    "neighborhoods = pd.DataFrame(columns=column_names)"
   ]
  },
  {
   "cell_type": "code",
   "execution_count": 6,
   "metadata": {},
   "outputs": [
    {
     "data": {
      "text/html": [
       "<div>\n",
       "<style scoped>\n",
       "    .dataframe tbody tr th:only-of-type {\n",
       "        vertical-align: middle;\n",
       "    }\n",
       "\n",
       "    .dataframe tbody tr th {\n",
       "        vertical-align: top;\n",
       "    }\n",
       "\n",
       "    .dataframe thead th {\n",
       "        text-align: right;\n",
       "    }\n",
       "</style>\n",
       "<table border=\"1\" class=\"dataframe\">\n",
       "  <thead>\n",
       "    <tr style=\"text-align: right;\">\n",
       "      <th></th>\n",
       "      <th>Borough</th>\n",
       "      <th>Neighborhood</th>\n",
       "      <th>Latitude</th>\n",
       "      <th>Longitude</th>\n",
       "    </tr>\n",
       "  </thead>\n",
       "  <tbody>\n",
       "  </tbody>\n",
       "</table>\n",
       "</div>"
      ],
      "text/plain": [
       "Empty DataFrame\n",
       "Columns: [Borough, Neighborhood, Latitude, Longitude]\n",
       "Index: []"
      ]
     },
     "execution_count": 6,
     "metadata": {},
     "output_type": "execute_result"
    }
   ],
   "source": [
    "neighborhoods"
   ]
  },
  {
   "cell_type": "code",
   "execution_count": 7,
   "metadata": {},
   "outputs": [],
   "source": [
    "for data in neighborhoods_data:\n",
    "    borough = neighborhood_name = data['properties']['borough'] \n",
    "    neighborhood_name = data['properties']['name']\n",
    "        \n",
    "    neighborhood_latlon = data['geometry']['coordinates']\n",
    "    neighborhood_lat = neighborhood_latlon[1]\n",
    "    neighborhood_lon = neighborhood_latlon[0]\n",
    "    \n",
    "    neighborhoods = neighborhoods.append({'Borough': borough,\n",
    "                                          'Neighborhood': neighborhood_name,\n",
    "                                          'Latitude': neighborhood_lat,\n",
    "                                          'Longitude': neighborhood_lon}, ignore_index=True)"
   ]
  },
  {
   "cell_type": "markdown",
   "metadata": {},
   "source": [
    "Let's see the example of the data."
   ]
  },
  {
   "cell_type": "code",
   "execution_count": 8,
   "metadata": {},
   "outputs": [
    {
     "data": {
      "text/html": [
       "<div>\n",
       "<style scoped>\n",
       "    .dataframe tbody tr th:only-of-type {\n",
       "        vertical-align: middle;\n",
       "    }\n",
       "\n",
       "    .dataframe tbody tr th {\n",
       "        vertical-align: top;\n",
       "    }\n",
       "\n",
       "    .dataframe thead th {\n",
       "        text-align: right;\n",
       "    }\n",
       "</style>\n",
       "<table border=\"1\" class=\"dataframe\">\n",
       "  <thead>\n",
       "    <tr style=\"text-align: right;\">\n",
       "      <th></th>\n",
       "      <th>Borough</th>\n",
       "      <th>Neighborhood</th>\n",
       "      <th>Latitude</th>\n",
       "      <th>Longitude</th>\n",
       "    </tr>\n",
       "  </thead>\n",
       "  <tbody>\n",
       "    <tr>\n",
       "      <th>0</th>\n",
       "      <td>Bronx</td>\n",
       "      <td>Wakefield</td>\n",
       "      <td>40.894705</td>\n",
       "      <td>-73.847201</td>\n",
       "    </tr>\n",
       "    <tr>\n",
       "      <th>1</th>\n",
       "      <td>Bronx</td>\n",
       "      <td>Co-op City</td>\n",
       "      <td>40.874294</td>\n",
       "      <td>-73.829939</td>\n",
       "    </tr>\n",
       "    <tr>\n",
       "      <th>2</th>\n",
       "      <td>Bronx</td>\n",
       "      <td>Eastchester</td>\n",
       "      <td>40.887556</td>\n",
       "      <td>-73.827806</td>\n",
       "    </tr>\n",
       "    <tr>\n",
       "      <th>3</th>\n",
       "      <td>Bronx</td>\n",
       "      <td>Fieldston</td>\n",
       "      <td>40.895437</td>\n",
       "      <td>-73.905643</td>\n",
       "    </tr>\n",
       "    <tr>\n",
       "      <th>4</th>\n",
       "      <td>Bronx</td>\n",
       "      <td>Riverdale</td>\n",
       "      <td>40.890834</td>\n",
       "      <td>-73.912585</td>\n",
       "    </tr>\n",
       "  </tbody>\n",
       "</table>\n",
       "</div>"
      ],
      "text/plain": [
       "  Borough Neighborhood   Latitude  Longitude\n",
       "0   Bronx    Wakefield  40.894705 -73.847201\n",
       "1   Bronx   Co-op City  40.874294 -73.829939\n",
       "2   Bronx  Eastchester  40.887556 -73.827806\n",
       "3   Bronx    Fieldston  40.895437 -73.905643\n",
       "4   Bronx    Riverdale  40.890834 -73.912585"
      ]
     },
     "execution_count": 8,
     "metadata": {},
     "output_type": "execute_result"
    }
   ],
   "source": [
    "neighborhoods.head()"
   ]
  },
  {
   "cell_type": "code",
   "execution_count": 9,
   "metadata": {},
   "outputs": [
    {
     "name": "stdout",
     "output_type": "stream",
     "text": [
      "The dataframe has 5 boroughs and 306 neighborhoods.\n"
     ]
    }
   ],
   "source": [
    "\n",
    "\n",
    "print('The dataframe has {} boroughs and {} neighborhoods.'.format(\n",
    "        len(neighborhoods['Borough'].unique()),\n",
    "        neighborhoods.shape[0]\n",
    "    )\n",
    ")\n",
    "\n"
   ]
  },
  {
   "cell_type": "markdown",
   "metadata": {},
   "source": [
    "Then, extract Turkish restuarants data from Foursquare API."
   ]
  },
  {
   "cell_type": "code",
   "execution_count": 10,
   "metadata": {},
   "outputs": [],
   "source": [
    "def get_venues(lat,lng):\n",
    "    \n",
    "    #set variables\n",
    "    CLIENT_ID = 'OWKYWQK2WB2FBHRQ4SGCRXSFPLPHT1IZJAX5X1PGWZUO24HG' # your Foursquare ID\n",
    "    CLIENT_SECRET = 'MA4HG33KSVVCZDZ3AM13DDNJSHN23OH5C4KTRGOZAGF1IZUT' # your Foursquare Secret\n",
    "    VERSION = '20200901' # Foursquare API version\n",
    "    LIMIT = 500\n",
    "    radius = 500\n",
    "    \n",
    "    #url to fetch data from foursquare api\n",
    "    url = 'https://api.foursquare.com/v2/venues/explore?&client_id={}&client_secret={}&v={}&ll={},{}'.format(\n",
    "            CLIENT_ID, \n",
    "            CLIENT_SECRET, \n",
    "            VERSION, \n",
    "            lat, \n",
    "            lng)\n",
    "    \n",
    "    # get all the data\n",
    "    results = requests.get(url).json()\n",
    "    venue_data=results[\"response\"]['groups'][0]['items']\n",
    "    venue_details=[]\n",
    "    for row in venue_data:\n",
    "        try:\n",
    "            venue_id=row['venue']['id']\n",
    "            venue_name=row['venue']['name']\n",
    "            venue_category=row['venue']['categories'][0]['name']\n",
    "            venue_details.append([venue_id,venue_name,venue_category])\n",
    "        except KeyError:\n",
    "            pass\n",
    "        \n",
    "    column_names=['ID','Name','Category']\n",
    "    df = pd.DataFrame(venue_details,columns=column_names)\n",
    "    return df"
   ]
  },
  {
   "cell_type": "code",
   "execution_count": 13,
   "metadata": {},
   "outputs": [
    {
     "name": "stdout",
     "output_type": "stream",
     "text": [
      "( 1 / 306 ) Turkish Restaurants in Wakefield, Bronx:0\n",
      "( 2 / 306 ) Turkish Restaurants in Co-op City, Bronx:0\n",
      "( 3 / 306 ) Turkish Restaurants in Eastchester, Bronx:0\n",
      "( 4 / 306 ) Turkish Restaurants in Fieldston, Bronx:0\n",
      "( 5 / 306 ) Turkish Restaurants in Riverdale, Bronx:0\n",
      "( 6 / 306 ) Turkish Restaurants in Kingsbridge, Bronx:0\n",
      "( 7 / 306 ) Turkish Restaurants in Marble Hill, Manhattan:0\n",
      "( 8 / 306 ) Turkish Restaurants in Woodlawn, Bronx:0\n",
      "( 9 / 306 ) Turkish Restaurants in Norwood, Bronx:0\n",
      "( 10 / 306 ) Turkish Restaurants in Williamsbridge, Bronx:0\n",
      "( 11 / 306 ) Turkish Restaurants in Baychester, Bronx:0\n",
      "( 12 / 306 ) Turkish Restaurants in Pelham Parkway, Bronx:0\n",
      "( 13 / 306 ) Turkish Restaurants in City Island, Bronx:0\n",
      "( 14 / 306 ) Turkish Restaurants in Bedford Park, Bronx:0\n",
      "( 15 / 306 ) Turkish Restaurants in University Heights, Bronx:0\n",
      "( 16 / 306 ) Turkish Restaurants in Morris Heights, Bronx:0\n",
      "( 17 / 306 ) Turkish Restaurants in Fordham, Bronx:0\n",
      "( 18 / 306 ) Turkish Restaurants in East Tremont, Bronx:0\n",
      "( 19 / 306 ) Turkish Restaurants in West Farms, Bronx:0\n",
      "( 20 / 306 ) Turkish Restaurants in High  Bridge, Bronx:0\n",
      "( 21 / 306 ) Turkish Restaurants in Melrose, Bronx:0\n",
      "( 22 / 306 ) Turkish Restaurants in Mott Haven, Bronx:0\n",
      "( 23 / 306 ) Turkish Restaurants in Port Morris, Bronx:0\n",
      "( 24 / 306 ) Turkish Restaurants in Longwood, Bronx:0\n",
      "( 25 / 306 ) Turkish Restaurants in Hunts Point, Bronx:0\n",
      "( 26 / 306 ) Turkish Restaurants in Morrisania, Bronx:0\n",
      "( 27 / 306 ) Turkish Restaurants in Soundview, Bronx:0\n",
      "( 28 / 306 ) Turkish Restaurants in Clason Point, Bronx:0\n",
      "( 29 / 306 ) Turkish Restaurants in Throgs Neck, Bronx:0\n",
      "( 30 / 306 ) Turkish Restaurants in Country Club, Bronx:0\n",
      "( 31 / 306 ) Turkish Restaurants in Parkchester, Bronx:0\n",
      "( 32 / 306 ) Turkish Restaurants in Westchester Square, Bronx:0\n",
      "( 33 / 306 ) Turkish Restaurants in Van Nest, Bronx:0\n",
      "( 34 / 306 ) Turkish Restaurants in Morris Park, Bronx:0\n",
      "( 35 / 306 ) Turkish Restaurants in Belmont, Bronx:0\n",
      "( 36 / 306 ) Turkish Restaurants in Spuyten Duyvil, Bronx:0\n",
      "( 37 / 306 ) Turkish Restaurants in North Riverdale, Bronx:0\n",
      "( 38 / 306 ) Turkish Restaurants in Pelham Bay, Bronx:0\n",
      "( 39 / 306 ) Turkish Restaurants in Schuylerville, Bronx:0\n",
      "( 40 / 306 ) Turkish Restaurants in Edgewater Park, Bronx:0\n",
      "( 41 / 306 ) Turkish Restaurants in Castle Hill, Bronx:0\n",
      "( 42 / 306 ) Turkish Restaurants in Olinville, Bronx:0\n",
      "( 43 / 306 ) Turkish Restaurants in Pelham Gardens, Bronx:0\n",
      "( 44 / 306 ) Turkish Restaurants in Concourse, Bronx:0\n",
      "( 45 / 306 ) Turkish Restaurants in Unionport, Bronx:0\n",
      "( 46 / 306 ) Turkish Restaurants in Edenwald, Bronx:0\n",
      "( 47 / 306 ) Turkish Restaurants in Bay Ridge, Brooklyn:1\n",
      "( 48 / 306 ) Turkish Restaurants in Bensonhurst, Brooklyn:0\n",
      "( 49 / 306 ) Turkish Restaurants in Sunset Park, Brooklyn:0\n",
      "( 50 / 306 ) Turkish Restaurants in Greenpoint, Brooklyn:0\n",
      "( 51 / 306 ) Turkish Restaurants in Gravesend, Brooklyn:1\n",
      "( 52 / 306 ) Turkish Restaurants in Brighton Beach, Brooklyn:0\n",
      "( 53 / 306 ) Turkish Restaurants in Sheepshead Bay, Brooklyn:2\n",
      "( 54 / 306 ) Turkish Restaurants in Manhattan Terrace, Brooklyn:1\n",
      "( 55 / 306 ) Turkish Restaurants in Flatbush, Brooklyn:0\n",
      "( 56 / 306 ) Turkish Restaurants in Crown Heights, Brooklyn:0\n",
      "( 57 / 306 ) Turkish Restaurants in East Flatbush, Brooklyn:0\n",
      "( 58 / 306 ) Turkish Restaurants in Kensington, Brooklyn:0\n",
      "( 59 / 306 ) Turkish Restaurants in Windsor Terrace, Brooklyn:0\n",
      "( 60 / 306 ) Turkish Restaurants in Prospect Heights, Brooklyn:0\n",
      "( 61 / 306 ) Turkish Restaurants in Brownsville, Brooklyn:0\n",
      "( 62 / 306 ) Turkish Restaurants in Williamsburg, Brooklyn:0\n",
      "( 63 / 306 ) Turkish Restaurants in Bushwick, Brooklyn:0\n",
      "( 64 / 306 ) Turkish Restaurants in Bedford Stuyvesant, Brooklyn:0\n",
      "( 65 / 306 ) Turkish Restaurants in Brooklyn Heights, Brooklyn:0\n",
      "( 66 / 306 ) Turkish Restaurants in Cobble Hill, Brooklyn:0\n",
      "( 67 / 306 ) Turkish Restaurants in Carroll Gardens, Brooklyn:0\n",
      "( 68 / 306 ) Turkish Restaurants in Red Hook, Brooklyn:0\n",
      "( 69 / 306 ) Turkish Restaurants in Gowanus, Brooklyn:0\n",
      "( 70 / 306 ) Turkish Restaurants in Fort Greene, Brooklyn:0\n",
      "( 71 / 306 ) Turkish Restaurants in Park Slope, Brooklyn:0\n",
      "( 72 / 306 ) Turkish Restaurants in Cypress Hills, Brooklyn:0\n",
      "( 73 / 306 ) Turkish Restaurants in East New York, Brooklyn:0\n",
      "( 74 / 306 ) Turkish Restaurants in Starrett City, Brooklyn:0\n",
      "( 75 / 306 ) Turkish Restaurants in Canarsie, Brooklyn:0\n",
      "( 76 / 306 ) Turkish Restaurants in Flatlands, Brooklyn:0\n",
      "( 77 / 306 ) Turkish Restaurants in Mill Island, Brooklyn:0\n",
      "( 78 / 306 ) Turkish Restaurants in Manhattan Beach, Brooklyn:3\n",
      "( 79 / 306 ) Turkish Restaurants in Coney Island, Brooklyn:0\n",
      "( 80 / 306 ) Turkish Restaurants in Bath Beach, Brooklyn:1\n",
      "( 81 / 306 ) Turkish Restaurants in Borough Park, Brooklyn:0\n",
      "( 82 / 306 ) Turkish Restaurants in Dyker Heights, Brooklyn:1\n",
      "( 83 / 306 ) Turkish Restaurants in Gerritsen Beach, Brooklyn:2\n",
      "( 84 / 306 ) Turkish Restaurants in Marine Park, Brooklyn:0\n",
      "( 85 / 306 ) Turkish Restaurants in Clinton Hill, Brooklyn:0\n",
      "( 86 / 306 ) Turkish Restaurants in Sea Gate, Brooklyn:0\n",
      "( 87 / 306 ) Turkish Restaurants in Downtown, Brooklyn:0\n",
      "( 88 / 306 ) Turkish Restaurants in Boerum Hill, Brooklyn:0\n",
      "( 89 / 306 ) Turkish Restaurants in Prospect Lefferts Gardens, Brooklyn:0\n",
      "( 90 / 306 ) Turkish Restaurants in Ocean Hill, Brooklyn:0\n",
      "( 91 / 306 ) Turkish Restaurants in City Line, Brooklyn:0\n",
      "( 92 / 306 ) Turkish Restaurants in Bergen Beach, Brooklyn:0\n",
      "( 93 / 306 ) Turkish Restaurants in Midwood, Brooklyn:0\n",
      "( 94 / 306 ) Turkish Restaurants in Prospect Park South, Brooklyn:0\n",
      "( 95 / 306 ) Turkish Restaurants in Georgetown, Brooklyn:0\n",
      "( 96 / 306 ) Turkish Restaurants in East Williamsburg, Brooklyn:0\n",
      "( 97 / 306 ) Turkish Restaurants in North Side, Brooklyn:0\n",
      "( 98 / 306 ) Turkish Restaurants in South Side, Brooklyn:0\n",
      "( 99 / 306 ) Turkish Restaurants in Ocean Parkway, Brooklyn:1\n",
      "( 100 / 306 ) Turkish Restaurants in Fort Hamilton, Brooklyn:0\n",
      "( 101 / 306 ) Turkish Restaurants in Chinatown, Manhattan:0\n",
      "( 102 / 306 ) Turkish Restaurants in Washington Heights, Manhattan:0\n",
      "( 103 / 306 ) Turkish Restaurants in Inwood, Manhattan:0\n",
      "( 104 / 306 ) Turkish Restaurants in Hamilton Heights, Manhattan:0\n",
      "( 105 / 306 ) Turkish Restaurants in Manhattanville, Manhattan:0\n",
      "( 106 / 306 ) Turkish Restaurants in Central Harlem, Manhattan:0\n",
      "( 107 / 306 ) Turkish Restaurants in East Harlem, Manhattan:0\n",
      "( 108 / 306 ) Turkish Restaurants in Upper East Side, Manhattan:0\n",
      "( 109 / 306 ) Turkish Restaurants in Yorkville, Manhattan:0\n",
      "( 110 / 306 ) Turkish Restaurants in Lenox Hill, Manhattan:0\n",
      "( 111 / 306 ) Turkish Restaurants in Roosevelt Island, Manhattan:0\n",
      "( 112 / 306 ) Turkish Restaurants in Upper West Side, Manhattan:1\n",
      "( 113 / 306 ) Turkish Restaurants in Lincoln Square, Manhattan:0\n",
      "( 114 / 306 ) Turkish Restaurants in Clinton, Manhattan:0\n",
      "( 115 / 306 ) Turkish Restaurants in Midtown, Manhattan:0\n",
      "( 116 / 306 ) Turkish Restaurants in Murray Hill, Manhattan:0\n",
      "( 117 / 306 ) Turkish Restaurants in Chelsea, Manhattan:0\n",
      "( 118 / 306 ) Turkish Restaurants in Greenwich Village, Manhattan:0\n",
      "( 119 / 306 ) Turkish Restaurants in East Village, Manhattan:0\n",
      "( 120 / 306 ) Turkish Restaurants in Lower East Side, Manhattan:0\n",
      "( 121 / 306 ) Turkish Restaurants in Tribeca, Manhattan:0\n",
      "( 122 / 306 ) Turkish Restaurants in Little Italy, Manhattan:0\n",
      "( 123 / 306 ) Turkish Restaurants in Soho, Manhattan:0\n",
      "( 124 / 306 ) Turkish Restaurants in West Village, Manhattan:0\n",
      "( 125 / 306 ) Turkish Restaurants in Manhattan Valley, Manhattan:0\n",
      "( 126 / 306 ) Turkish Restaurants in Morningside Heights, Manhattan:0\n",
      "( 127 / 306 ) Turkish Restaurants in Gramercy, Manhattan:0\n",
      "( 128 / 306 ) Turkish Restaurants in Battery Park City, Manhattan:0\n",
      "( 129 / 306 ) Turkish Restaurants in Financial District, Manhattan:0\n",
      "( 130 / 306 ) Turkish Restaurants in Astoria, Queens:0\n",
      "( 131 / 306 ) Turkish Restaurants in Woodside, Queens:0\n",
      "( 132 / 306 ) Turkish Restaurants in Jackson Heights, Queens:0\n",
      "( 133 / 306 ) Turkish Restaurants in Elmhurst, Queens:0\n",
      "( 134 / 306 ) Turkish Restaurants in Howard Beach, Queens:0\n",
      "( 135 / 306 ) Turkish Restaurants in Corona, Queens:0\n",
      "( 136 / 306 ) Turkish Restaurants in Forest Hills, Queens:0\n",
      "( 137 / 306 ) Turkish Restaurants in Kew Gardens, Queens:0\n",
      "( 138 / 306 ) Turkish Restaurants in Richmond Hill, Queens:0\n",
      "( 139 / 306 ) Turkish Restaurants in Flushing, Queens:0\n",
      "( 140 / 306 ) Turkish Restaurants in Long Island City, Queens:0\n",
      "( 141 / 306 ) Turkish Restaurants in Sunnyside, Queens:0\n",
      "( 142 / 306 ) Turkish Restaurants in East Elmhurst, Queens:0\n",
      "( 143 / 306 ) Turkish Restaurants in Maspeth, Queens:0\n",
      "( 144 / 306 ) Turkish Restaurants in Ridgewood, Queens:0\n",
      "( 145 / 306 ) Turkish Restaurants in Glendale, Queens:0\n",
      "( 146 / 306 ) Turkish Restaurants in Rego Park, Queens:0\n",
      "( 147 / 306 ) Turkish Restaurants in Woodhaven, Queens:0\n",
      "( 148 / 306 ) Turkish Restaurants in Ozone Park, Queens:0\n",
      "( 149 / 306 ) Turkish Restaurants in South Ozone Park, Queens:0\n",
      "( 150 / 306 ) Turkish Restaurants in College Point, Queens:0\n",
      "( 151 / 306 ) Turkish Restaurants in Whitestone, Queens:0\n",
      "( 152 / 306 ) Turkish Restaurants in Bayside, Queens:0\n",
      "( 153 / 306 ) Turkish Restaurants in Auburndale, Queens:0\n",
      "( 154 / 306 ) Turkish Restaurants in Little Neck, Queens:0\n",
      "( 155 / 306 ) Turkish Restaurants in Douglaston, Queens:0\n",
      "( 156 / 306 ) Turkish Restaurants in Glen Oaks, Queens:0\n",
      "( 157 / 306 ) Turkish Restaurants in Bellerose, Queens:0\n",
      "( 158 / 306 ) Turkish Restaurants in Kew Gardens Hills, Queens:0\n",
      "( 159 / 306 ) Turkish Restaurants in Fresh Meadows, Queens:0\n",
      "( 160 / 306 ) Turkish Restaurants in Briarwood, Queens:0\n",
      "( 161 / 306 ) Turkish Restaurants in Jamaica Center, Queens:0\n",
      "( 162 / 306 ) Turkish Restaurants in Oakland Gardens, Queens:0\n",
      "( 163 / 306 ) Turkish Restaurants in Queens Village, Queens:0\n",
      "( 164 / 306 ) Turkish Restaurants in Hollis, Queens:0\n",
      "( 165 / 306 ) Turkish Restaurants in South Jamaica, Queens:0\n",
      "( 166 / 306 ) Turkish Restaurants in St. Albans, Queens:0\n",
      "( 167 / 306 ) Turkish Restaurants in Rochdale, Queens:0\n",
      "( 168 / 306 ) Turkish Restaurants in Springfield Gardens, Queens:0\n",
      "( 169 / 306 ) Turkish Restaurants in Cambria Heights, Queens:0\n",
      "( 170 / 306 ) Turkish Restaurants in Rosedale, Queens:0\n",
      "( 171 / 306 ) Turkish Restaurants in Far Rockaway, Queens:0\n",
      "( 172 / 306 ) Turkish Restaurants in Broad Channel, Queens:0\n",
      "( 173 / 306 ) Turkish Restaurants in Breezy Point, Queens:2\n",
      "( 174 / 306 ) Turkish Restaurants in Steinway, Queens:0\n",
      "( 175 / 306 ) Turkish Restaurants in Beechhurst, Queens:0\n",
      "( 176 / 306 ) Turkish Restaurants in Bay Terrace, Queens:0\n",
      "( 177 / 306 ) Turkish Restaurants in Edgemere, Queens:0\n",
      "( 178 / 306 ) Turkish Restaurants in Arverne, Queens:0\n",
      "( 179 / 306 ) Turkish Restaurants in Rockaway Beach, Queens:0\n",
      "( 180 / 306 ) Turkish Restaurants in Neponsit, Queens:0\n",
      "( 181 / 306 ) Turkish Restaurants in Murray Hill, Queens:0\n",
      "( 182 / 306 ) Turkish Restaurants in Floral Park, Queens:0\n",
      "( 183 / 306 ) Turkish Restaurants in Holliswood, Queens:0\n",
      "( 184 / 306 ) Turkish Restaurants in Jamaica Estates, Queens:0\n",
      "( 185 / 306 ) Turkish Restaurants in Queensboro Hill, Queens:0\n",
      "( 186 / 306 ) Turkish Restaurants in Hillcrest, Queens:0\n",
      "( 187 / 306 ) Turkish Restaurants in Ravenswood, Queens:1\n",
      "( 188 / 306 ) Turkish Restaurants in Lindenwood, Queens:0\n",
      "( 189 / 306 ) Turkish Restaurants in Laurelton, Queens:0\n",
      "( 190 / 306 ) Turkish Restaurants in Lefrak City, Queens:0\n",
      "( 191 / 306 ) Turkish Restaurants in Belle Harbor, Queens:0\n",
      "( 192 / 306 ) Turkish Restaurants in Rockaway Park, Queens:0\n",
      "( 193 / 306 ) Turkish Restaurants in Somerville, Queens:0\n",
      "( 194 / 306 ) Turkish Restaurants in Brookville, Queens:0\n",
      "( 195 / 306 ) Turkish Restaurants in Bellaire, Queens:0\n",
      "( 196 / 306 ) Turkish Restaurants in North Corona, Queens:0\n",
      "( 197 / 306 ) Turkish Restaurants in Forest Hills Gardens, Queens:0\n",
      "( 198 / 306 ) Turkish Restaurants in St. George, Staten Island:0\n",
      "( 199 / 306 ) Turkish Restaurants in New Brighton, Staten Island:0\n",
      "( 200 / 306 ) Turkish Restaurants in Stapleton, Staten Island:0\n",
      "( 201 / 306 ) Turkish Restaurants in Rosebank, Staten Island:0\n",
      "( 202 / 306 ) Turkish Restaurants in West Brighton, Staten Island:0\n",
      "( 203 / 306 ) Turkish Restaurants in Grymes Hill, Staten Island:0\n",
      "( 204 / 306 ) Turkish Restaurants in Todt Hill, Staten Island:0\n",
      "( 205 / 306 ) Turkish Restaurants in South Beach, Staten Island:0\n",
      "( 206 / 306 ) Turkish Restaurants in Port Richmond, Staten Island:0\n",
      "( 207 / 306 ) Turkish Restaurants in Mariner's Harbor, Staten Island:0\n",
      "( 208 / 306 ) Turkish Restaurants in Port Ivory, Staten Island:0\n",
      "( 209 / 306 ) Turkish Restaurants in Castleton Corners, Staten Island:0\n",
      "( 210 / 306 ) Turkish Restaurants in New Springville, Staten Island:0\n",
      "( 211 / 306 ) Turkish Restaurants in Travis, Staten Island:0\n",
      "( 212 / 306 ) Turkish Restaurants in New Dorp, Staten Island:0\n",
      "( 213 / 306 ) Turkish Restaurants in Oakwood, Staten Island:0\n",
      "( 214 / 306 ) Turkish Restaurants in Great Kills, Staten Island:0\n",
      "( 215 / 306 ) Turkish Restaurants in Eltingville, Staten Island:0\n",
      "( 216 / 306 ) Turkish Restaurants in Annadale, Staten Island:0\n",
      "( 217 / 306 ) Turkish Restaurants in Woodrow, Staten Island:0\n",
      "( 218 / 306 ) Turkish Restaurants in Tottenville, Staten Island:0\n",
      "( 219 / 306 ) Turkish Restaurants in Tompkinsville, Staten Island:0\n",
      "( 220 / 306 ) Turkish Restaurants in Silver Lake, Staten Island:0\n",
      "( 221 / 306 ) Turkish Restaurants in Sunnyside, Staten Island:0\n",
      "( 222 / 306 ) Turkish Restaurants in Ditmas Park, Brooklyn:0\n",
      "( 223 / 306 ) Turkish Restaurants in Wingate, Brooklyn:0\n",
      "( 224 / 306 ) Turkish Restaurants in Rugby, Brooklyn:0\n",
      "( 225 / 306 ) Turkish Restaurants in Park Hill, Staten Island:0\n",
      "( 226 / 306 ) Turkish Restaurants in Westerleigh, Staten Island:0\n",
      "( 227 / 306 ) Turkish Restaurants in Graniteville, Staten Island:0\n",
      "( 228 / 306 ) Turkish Restaurants in Arlington, Staten Island:0\n",
      "( 229 / 306 ) Turkish Restaurants in Arrochar, Staten Island:0\n",
      "( 230 / 306 ) Turkish Restaurants in Grasmere, Staten Island:0\n",
      "( 231 / 306 ) Turkish Restaurants in Old Town, Staten Island:0\n",
      "( 232 / 306 ) Turkish Restaurants in Dongan Hills, Staten Island:0\n",
      "( 233 / 306 ) Turkish Restaurants in Midland Beach, Staten Island:0\n",
      "( 234 / 306 ) Turkish Restaurants in Grant City, Staten Island:0\n",
      "( 235 / 306 ) Turkish Restaurants in New Dorp Beach, Staten Island:0\n",
      "( 236 / 306 ) Turkish Restaurants in Bay Terrace, Staten Island:0\n",
      "( 237 / 306 ) Turkish Restaurants in Huguenot, Staten Island:0\n",
      "( 238 / 306 ) Turkish Restaurants in Pleasant Plains, Staten Island:0\n",
      "( 239 / 306 ) Turkish Restaurants in Butler Manor, Staten Island:0\n",
      "( 240 / 306 ) Turkish Restaurants in Charleston, Staten Island:0\n",
      "( 241 / 306 ) Turkish Restaurants in Rossville, Staten Island:0\n",
      "( 242 / 306 ) Turkish Restaurants in Arden Heights, Staten Island:0\n",
      "( 243 / 306 ) Turkish Restaurants in Greenridge, Staten Island:0\n",
      "( 244 / 306 ) Turkish Restaurants in Heartland Village, Staten Island:0\n",
      "( 245 / 306 ) Turkish Restaurants in Chelsea, Staten Island:0\n",
      "( 246 / 306 ) Turkish Restaurants in Bloomfield, Staten Island:0\n",
      "( 247 / 306 ) Turkish Restaurants in Bulls Head, Staten Island:0\n",
      "( 248 / 306 ) Turkish Restaurants in Carnegie Hill, Manhattan:0\n",
      "( 249 / 306 ) Turkish Restaurants in Noho, Manhattan:0\n",
      "( 250 / 306 ) Turkish Restaurants in Civic Center, Manhattan:0\n",
      "( 251 / 306 ) Turkish Restaurants in Midtown South, Manhattan:0\n",
      "( 252 / 306 ) Turkish Restaurants in Richmond Town, Staten Island:0\n",
      "( 253 / 306 ) Turkish Restaurants in Shore Acres, Staten Island:0\n",
      "( 254 / 306 ) Turkish Restaurants in Clifton, Staten Island:0\n",
      "( 255 / 306 ) Turkish Restaurants in Concord, Staten Island:0\n",
      "( 256 / 306 ) Turkish Restaurants in Emerson Hill, Staten Island:0\n",
      "( 257 / 306 ) Turkish Restaurants in Randall Manor, Staten Island:0\n",
      "( 258 / 306 ) Turkish Restaurants in Howland Hook, Staten Island:0\n",
      "( 259 / 306 ) Turkish Restaurants in Elm Park, Staten Island:0\n",
      "( 260 / 306 ) Turkish Restaurants in Remsen Village, Brooklyn:0\n",
      "( 261 / 306 ) Turkish Restaurants in New Lots, Brooklyn:0\n",
      "( 262 / 306 ) Turkish Restaurants in Paerdegat Basin, Brooklyn:0\n",
      "( 263 / 306 ) Turkish Restaurants in Mill Basin, Brooklyn:0\n",
      "( 264 / 306 ) Turkish Restaurants in Jamaica Hills, Queens:0\n",
      "( 265 / 306 ) Turkish Restaurants in Utopia, Queens:0\n",
      "( 266 / 306 ) Turkish Restaurants in Pomonok, Queens:0\n",
      "( 267 / 306 ) Turkish Restaurants in Astoria Heights, Queens:0\n",
      "( 268 / 306 ) Turkish Restaurants in Claremont Village, Bronx:0\n",
      "( 269 / 306 ) Turkish Restaurants in Concourse Village, Bronx:0\n",
      "( 270 / 306 ) Turkish Restaurants in Mount Eden, Bronx:0\n",
      "( 271 / 306 ) Turkish Restaurants in Mount Hope, Bronx:0\n",
      "( 272 / 306 ) Turkish Restaurants in Sutton Place, Manhattan:0\n",
      "( 273 / 306 ) Turkish Restaurants in Hunters Point, Queens:0\n",
      "( 274 / 306 ) Turkish Restaurants in Turtle Bay, Manhattan:1\n",
      "( 275 / 306 ) Turkish Restaurants in Tudor City, Manhattan:0\n",
      "( 276 / 306 ) Turkish Restaurants in Stuyvesant Town, Manhattan:0\n",
      "( 277 / 306 ) Turkish Restaurants in Flatiron, Manhattan:0\n",
      "( 278 / 306 ) Turkish Restaurants in Sunnyside Gardens, Queens:1\n",
      "( 279 / 306 ) Turkish Restaurants in Blissville, Queens:0\n",
      "( 280 / 306 ) Turkish Restaurants in Fulton Ferry, Brooklyn:0\n",
      "( 281 / 306 ) Turkish Restaurants in Vinegar Hill, Brooklyn:0\n",
      "( 282 / 306 ) Turkish Restaurants in Weeksville, Brooklyn:0\n",
      "( 283 / 306 ) Turkish Restaurants in Broadway Junction, Brooklyn:0\n",
      "( 284 / 306 ) Turkish Restaurants in Dumbo, Brooklyn:0\n",
      "( 285 / 306 ) Turkish Restaurants in Manor Heights, Staten Island:0\n",
      "( 286 / 306 ) Turkish Restaurants in Willowbrook, Staten Island:0\n",
      "( 287 / 306 ) Turkish Restaurants in Sandy Ground, Staten Island:0\n",
      "( 288 / 306 ) Turkish Restaurants in Egbertville, Staten Island:0\n",
      "( 289 / 306 ) Turkish Restaurants in Roxbury, Queens:1\n",
      "( 290 / 306 ) Turkish Restaurants in Homecrest, Brooklyn:1\n",
      "( 291 / 306 ) Turkish Restaurants in Middle Village, Queens:0\n",
      "( 292 / 306 ) Turkish Restaurants in Prince's Bay, Staten Island:0\n",
      "( 293 / 306 ) Turkish Restaurants in Lighthouse Hill, Staten Island:0\n",
      "( 294 / 306 ) Turkish Restaurants in Richmond Valley, Staten Island:0\n",
      "( 295 / 306 ) Turkish Restaurants in Malba, Queens:0\n",
      "( 296 / 306 ) Turkish Restaurants in Highland Park, Brooklyn:0\n",
      "( 297 / 306 ) Turkish Restaurants in Madison, Brooklyn:1\n",
      "( 298 / 306 ) Turkish Restaurants in Bronxdale, Bronx:0\n",
      "( 299 / 306 ) Turkish Restaurants in Allerton, Bronx:0\n",
      "( 300 / 306 ) Turkish Restaurants in Kingsbridge Heights, Bronx:0\n",
      "( 301 / 306 ) Turkish Restaurants in Erasmus, Brooklyn:0\n",
      "( 302 / 306 ) Turkish Restaurants in Hudson Yards, Manhattan:0\n",
      "( 303 / 306 ) Turkish Restaurants in Hammels, Queens:0\n",
      "( 304 / 306 ) Turkish Restaurants in Bayswater, Queens:0\n",
      "( 305 / 306 ) Turkish Restaurants in Queensbridge, Queens:0\n",
      "( 306 / 306 ) Turkish Restaurants in Fox Hills, Staten Island:0\n"
     ]
    }
   ],
   "source": [
    "# prepare neighborhood list that contains Turkish Restaurants\n",
    "column_names=['Borough', 'Neighborhood', 'ID','Name']\n",
    "turk_rest_ny=pd.DataFrame(columns=column_names)\n",
    "count=1\n",
    "for row in neighborhoods.values.tolist():\n",
    "    Borough, Neighborhood, Latitude, Longitude=row\n",
    "    venues = get_venues(Latitude,Longitude)\n",
    "    turk_resturants=venues[venues['Category']=='Turkish Restaurant']   \n",
    "    print('(',count,'/',len(neighborhoods),')','Turkish Restaurants in '+Neighborhood+', '+Borough+':'+str(len(turk_resturants)))\n",
    "    for resturant_detail in turk_resturants.values.tolist():\n",
    "        id, name , category=resturant_detail\n",
    "        turk_rest_ny = turk_rest_ny.append({'Borough': Borough,\n",
    "                                                'Neighborhood': Neighborhood, \n",
    "                                                'ID': id,\n",
    "                                                'Name' : name\n",
    "                                               }, ignore_index=True)\n",
    "    count+=1\n"
   ]
  },
  {
   "cell_type": "code",
   "execution_count": 14,
   "metadata": {},
   "outputs": [
    {
     "data": {
      "text/html": [
       "<div>\n",
       "<style scoped>\n",
       "    .dataframe tbody tr th:only-of-type {\n",
       "        vertical-align: middle;\n",
       "    }\n",
       "\n",
       "    .dataframe tbody tr th {\n",
       "        vertical-align: top;\n",
       "    }\n",
       "\n",
       "    .dataframe thead th {\n",
       "        text-align: right;\n",
       "    }\n",
       "</style>\n",
       "<table border=\"1\" class=\"dataframe\">\n",
       "  <thead>\n",
       "    <tr style=\"text-align: right;\">\n",
       "      <th></th>\n",
       "      <th>Borough</th>\n",
       "      <th>Neighborhood</th>\n",
       "      <th>ID</th>\n",
       "      <th>Name</th>\n",
       "    </tr>\n",
       "  </thead>\n",
       "  <tbody>\n",
       "    <tr>\n",
       "      <th>0</th>\n",
       "      <td>Brooklyn</td>\n",
       "      <td>Bay Ridge</td>\n",
       "      <td>579d3e7c498effa33c0450af</td>\n",
       "      <td>Istanbul Bay</td>\n",
       "    </tr>\n",
       "    <tr>\n",
       "      <th>1</th>\n",
       "      <td>Brooklyn</td>\n",
       "      <td>Gravesend</td>\n",
       "      <td>51a2a2a3498e0d5d337f137b</td>\n",
       "      <td>Wood Spoon</td>\n",
       "    </tr>\n",
       "    <tr>\n",
       "      <th>2</th>\n",
       "      <td>Brooklyn</td>\n",
       "      <td>Sheepshead Bay</td>\n",
       "      <td>4fcbfc92e4b088c92e7e97ad</td>\n",
       "      <td>Opera Cafe Lounge</td>\n",
       "    </tr>\n",
       "    <tr>\n",
       "      <th>3</th>\n",
       "      <td>Brooklyn</td>\n",
       "      <td>Sheepshead Bay</td>\n",
       "      <td>4b1d5405f964a520d70e24e3</td>\n",
       "      <td>Liman Restaurant</td>\n",
       "    </tr>\n",
       "    <tr>\n",
       "      <th>4</th>\n",
       "      <td>Brooklyn</td>\n",
       "      <td>Manhattan Terrace</td>\n",
       "      <td>4a060d32f964a520b1721fe3</td>\n",
       "      <td>Taci's Beyti Restaurant</td>\n",
       "    </tr>\n",
       "  </tbody>\n",
       "</table>\n",
       "</div>"
      ],
      "text/plain": [
       "    Borough       Neighborhood                        ID  \\\n",
       "0  Brooklyn          Bay Ridge  579d3e7c498effa33c0450af   \n",
       "1  Brooklyn          Gravesend  51a2a2a3498e0d5d337f137b   \n",
       "2  Brooklyn     Sheepshead Bay  4fcbfc92e4b088c92e7e97ad   \n",
       "3  Brooklyn     Sheepshead Bay  4b1d5405f964a520d70e24e3   \n",
       "4  Brooklyn  Manhattan Terrace  4a060d32f964a520b1721fe3   \n",
       "\n",
       "                      Name  \n",
       "0             Istanbul Bay  \n",
       "1               Wood Spoon  \n",
       "2        Opera Cafe Lounge  \n",
       "3         Liman Restaurant  \n",
       "4  Taci's Beyti Restaurant  "
      ]
     },
     "execution_count": 14,
     "metadata": {},
     "output_type": "execute_result"
    }
   ],
   "source": [
    "turk_rest_ny.head()"
   ]
  },
  {
   "cell_type": "code",
   "execution_count": 15,
   "metadata": {},
   "outputs": [
    {
     "data": {
      "text/plain": [
       "(22, 4)"
      ]
     },
     "execution_count": 15,
     "metadata": {},
     "output_type": "execute_result"
    }
   ],
   "source": [
    "turk_rest_ny.shape"
   ]
  },
  {
   "cell_type": "markdown",
   "metadata": {},
   "source": [
    "Keep data into csv to prevent API limit."
   ]
  },
  {
   "cell_type": "code",
   "execution_count": 16,
   "metadata": {},
   "outputs": [],
   "source": [
    "turk_rest_ny.to_csv('turk_rest_ny.csv', index=False)"
   ]
  },
  {
   "cell_type": "code",
   "execution_count": 17,
   "metadata": {},
   "outputs": [],
   "source": [
    "turk_rest_ny_csv = pd.read_csv('turk_rest_ny.csv')\n"
   ]
  },
  {
   "cell_type": "code",
   "execution_count": 18,
   "metadata": {},
   "outputs": [
    {
     "data": {
      "text/html": [
       "<div>\n",
       "<style scoped>\n",
       "    .dataframe tbody tr th:only-of-type {\n",
       "        vertical-align: middle;\n",
       "    }\n",
       "\n",
       "    .dataframe tbody tr th {\n",
       "        vertical-align: top;\n",
       "    }\n",
       "\n",
       "    .dataframe thead th {\n",
       "        text-align: right;\n",
       "    }\n",
       "</style>\n",
       "<table border=\"1\" class=\"dataframe\">\n",
       "  <thead>\n",
       "    <tr style=\"text-align: right;\">\n",
       "      <th></th>\n",
       "      <th>Borough</th>\n",
       "      <th>Neighborhood</th>\n",
       "      <th>ID</th>\n",
       "      <th>Name</th>\n",
       "    </tr>\n",
       "  </thead>\n",
       "  <tbody>\n",
       "    <tr>\n",
       "      <th>0</th>\n",
       "      <td>Brooklyn</td>\n",
       "      <td>Bay Ridge</td>\n",
       "      <td>579d3e7c498effa33c0450af</td>\n",
       "      <td>Istanbul Bay</td>\n",
       "    </tr>\n",
       "    <tr>\n",
       "      <th>1</th>\n",
       "      <td>Brooklyn</td>\n",
       "      <td>Gravesend</td>\n",
       "      <td>51a2a2a3498e0d5d337f137b</td>\n",
       "      <td>Wood Spoon</td>\n",
       "    </tr>\n",
       "    <tr>\n",
       "      <th>2</th>\n",
       "      <td>Brooklyn</td>\n",
       "      <td>Sheepshead Bay</td>\n",
       "      <td>4fcbfc92e4b088c92e7e97ad</td>\n",
       "      <td>Opera Cafe Lounge</td>\n",
       "    </tr>\n",
       "    <tr>\n",
       "      <th>3</th>\n",
       "      <td>Brooklyn</td>\n",
       "      <td>Sheepshead Bay</td>\n",
       "      <td>4b1d5405f964a520d70e24e3</td>\n",
       "      <td>Liman Restaurant</td>\n",
       "    </tr>\n",
       "    <tr>\n",
       "      <th>4</th>\n",
       "      <td>Brooklyn</td>\n",
       "      <td>Manhattan Terrace</td>\n",
       "      <td>4a060d32f964a520b1721fe3</td>\n",
       "      <td>Taci's Beyti Restaurant</td>\n",
       "    </tr>\n",
       "  </tbody>\n",
       "</table>\n",
       "</div>"
      ],
      "text/plain": [
       "    Borough       Neighborhood                        ID  \\\n",
       "0  Brooklyn          Bay Ridge  579d3e7c498effa33c0450af   \n",
       "1  Brooklyn          Gravesend  51a2a2a3498e0d5d337f137b   \n",
       "2  Brooklyn     Sheepshead Bay  4fcbfc92e4b088c92e7e97ad   \n",
       "3  Brooklyn     Sheepshead Bay  4b1d5405f964a520d70e24e3   \n",
       "4  Brooklyn  Manhattan Terrace  4a060d32f964a520b1721fe3   \n",
       "\n",
       "                      Name  \n",
       "0             Istanbul Bay  \n",
       "1               Wood Spoon  \n",
       "2        Opera Cafe Lounge  \n",
       "3         Liman Restaurant  \n",
       "4  Taci's Beyti Restaurant  "
      ]
     },
     "execution_count": 18,
     "metadata": {},
     "output_type": "execute_result"
    }
   ],
   "source": [
    "turk_rest_ny_csv.head()"
   ]
  },
  {
   "cell_type": "code",
   "execution_count": 19,
   "metadata": {},
   "outputs": [
    {
     "data": {
      "text/plain": [
       "(22, 4)"
      ]
     },
     "execution_count": 19,
     "metadata": {},
     "output_type": "execute_result"
    }
   ],
   "source": [
    "turk_rest_ny_csv.shape"
   ]
  },
  {
   "cell_type": "markdown",
   "metadata": {},
   "source": [
    "Let's see which borough has the most Turkish restaurants."
   ]
  },
  {
   "cell_type": "code",
   "execution_count": 20,
   "metadata": {},
   "outputs": [
    {
     "data": {
      "image/png": "[encoded data removed]",
      "text/plain": [
       "<Figure size 900x500 with 1 Axes>"
      ]
     },
     "metadata": {
      "needs_background": "light"
     },
     "output_type": "display_data"
    }
   ],
   "source": [
    "plt.figure(figsize=(9,5), dpi = 100)\n",
    "# title\n",
    "plt.title('Number of Turkish Restaurants for each Borough in New York City')\n",
    "#On x-axis\n",
    "plt.xlabel('Borough', fontsize = 15)\n",
    "#On y-axis\n",
    "plt.ylabel('No.of Turkish Restaurants', fontsize=15)\n",
    "#giving a bar plot\n",
    "turk_rest_ny_csv.groupby('Borough')['ID'].count().plot(kind='bar')\n",
    "#legend\n",
    "plt.legend()\n",
    "#displays the plot\n",
    "plt.show()"
   ]
  },
  {
   "cell_type": "markdown",
   "metadata": {},
   "source": [
    "We found that Manhattan has the most Turkish restaurants in New York City. Then let's see which neighborhood has the most Turkish restaurants."
   ]
  },
  {
   "cell_type": "code",
   "execution_count": 21,
   "metadata": {},
   "outputs": [
    {
     "data": {
      "image/png": "[encoded data removed]",
      "text/plain": [
       "<Figure size 900x500 with 1 Axes>"
      ]
     },
     "metadata": {
      "needs_background": "light"
     },
     "output_type": "display_data"
    }
   ],
   "source": [
    "\n",
    "plt.figure(figsize=(9,5), dpi = 100)\n",
    "# title\n",
    "plt.title('Number of Turkish Resturants for each Neighborhood in New York City')\n",
    "#On x-axis\n",
    "plt.xlabel('Neighborhood', fontsize = 15)\n",
    "#On y-axis\n",
    "plt.ylabel('No.of Turkish Resturants', fontsize=15)\n",
    "#giving a bar plot\n",
    "turk_rest_ny.groupby('Neighborhood')['ID'].count().nlargest(5).plot(kind='bar')\n",
    "#legend\n",
    "plt.legend()\n",
    "#displays the plot\n",
    "plt.show()"
   ]
  },
  {
   "cell_type": "code",
   "execution_count": 22,
   "metadata": {},
   "outputs": [
    {
     "data": {
      "text/html": [
       "<div>\n",
       "<style scoped>\n",
       "    .dataframe tbody tr th:only-of-type {\n",
       "        vertical-align: middle;\n",
       "    }\n",
       "\n",
       "    .dataframe tbody tr th {\n",
       "        vertical-align: top;\n",
       "    }\n",
       "\n",
       "    .dataframe thead th {\n",
       "        text-align: right;\n",
       "    }\n",
       "</style>\n",
       "<table border=\"1\" class=\"dataframe\">\n",
       "  <thead>\n",
       "    <tr style=\"text-align: right;\">\n",
       "      <th></th>\n",
       "      <th>Borough</th>\n",
       "      <th>Neighborhood</th>\n",
       "      <th>ID</th>\n",
       "      <th>Name</th>\n",
       "    </tr>\n",
       "  </thead>\n",
       "  <tbody>\n",
       "    <tr>\n",
       "      <th>5</th>\n",
       "      <td>Brooklyn</td>\n",
       "      <td>Manhattan Beach</td>\n",
       "      <td>4b1d5405f964a520d70e24e3</td>\n",
       "      <td>Liman Restaurant</td>\n",
       "    </tr>\n",
       "    <tr>\n",
       "      <th>6</th>\n",
       "      <td>Brooklyn</td>\n",
       "      <td>Manhattan Beach</td>\n",
       "      <td>4fcbfc92e4b088c92e7e97ad</td>\n",
       "      <td>Opera Cafe Lounge</td>\n",
       "    </tr>\n",
       "    <tr>\n",
       "      <th>7</th>\n",
       "      <td>Brooklyn</td>\n",
       "      <td>Manhattan Beach</td>\n",
       "      <td>4a986cf5f964a520f32b20e3</td>\n",
       "      <td>Istanbul Restaurant Fish &amp; Kebab</td>\n",
       "    </tr>\n",
       "  </tbody>\n",
       "</table>\n",
       "</div>"
      ],
      "text/plain": [
       "    Borough     Neighborhood                        ID  \\\n",
       "5  Brooklyn  Manhattan Beach  4b1d5405f964a520d70e24e3   \n",
       "6  Brooklyn  Manhattan Beach  4fcbfc92e4b088c92e7e97ad   \n",
       "7  Brooklyn  Manhattan Beach  4a986cf5f964a520f32b20e3   \n",
       "\n",
       "                               Name  \n",
       "5                  Liman Restaurant  \n",
       "6                 Opera Cafe Lounge  \n",
       "7  Istanbul Restaurant Fish & Kebab  "
      ]
     },
     "execution_count": 22,
     "metadata": {},
     "output_type": "execute_result"
    }
   ],
   "source": [
    "turk_rest_ny_csv[turk_rest_ny_csv['Neighborhood']=='Manhattan Beach']"
   ]
  },
  {
   "cell_type": "markdown",
   "metadata": {},
   "source": [
    "Let's get more insight on each restaurant (Rating, Tips, Like) from Foursquare API."
   ]
  },
  {
   "cell_type": "code",
   "execution_count": 23,
   "metadata": {},
   "outputs": [],
   "source": [
    "def get_venue_details(venue_id):\n",
    "    #set variables\n",
    "    CLIENT_ID = 'OWKYWQK2WB2FBHRQ4SGCRXSFPLPHT1IZJAX5X1PGWZUO24HG' # your Foursquare ID\n",
    "    CLIENT_SECRET = 'MA4HG33KSVVCZDZ3AM13DDNJSHN23OH5C4KTRGOZAGF1IZUT' # your Foursquare Secret\n",
    "    VERSION = '20200901' # Foursquare API version\n",
    "    \n",
    "    #url to fetch data from foursquare api\n",
    "    url = 'https://api.foursquare.com/v2/venues/{}?&client_id={}&client_secret={}&v={}'.format(\n",
    "            venue_id,\n",
    "            CLIENT_ID, \n",
    "            CLIENT_SECRET, \n",
    "            VERSION)\n",
    "    \n",
    "    # get all the data\n",
    "    results = requests.get(url).json()\n",
    "    venue_data=results['response']['venue']\n",
    "    venue_details=[]\n",
    "    try:\n",
    "        venue_id=venue_data['id']\n",
    "        venue_name=venue_data['name']\n",
    "        venue_likes=venue_data['likes']['count']\n",
    "        venue_rating=venue_data['rating']\n",
    "        venue_tips=venue_data['tips']['count']\n",
    "        venue_details.append([venue_id,venue_name,venue_likes,venue_rating,venue_tips])\n",
    "    except KeyError:\n",
    "        pass\n",
    "        \n",
    "    column_names=['ID','Name','Likes','Rating','Tips']\n",
    "    df = pd.DataFrame(venue_details,columns=column_names)\n",
    "    return df"
   ]
  },
  {
   "cell_type": "code",
   "execution_count": 24,
   "metadata": {},
   "outputs": [
    {
     "name": "stdout",
     "output_type": "stream",
     "text": [
      "                         ID          Name  Likes  Rating  Tips\n",
      "0  579d3e7c498effa33c0450af  Istanbul Bay     23     8.2     4\n",
      "( 1 / 22 ) processed\n",
      "                         ID        Name  Likes  Rating  Tips\n",
      "0  51a2a2a3498e0d5d337f137b  Wood Spoon      5     7.2     3\n",
      "( 2 / 22 ) processed\n",
      "                         ID               Name  Likes  Rating  Tips\n",
      "0  4fcbfc92e4b088c92e7e97ad  Opera Cafe Lounge    256     8.2    54\n",
      "( 3 / 22 ) processed\n",
      "                         ID              Name  Likes  Rating  Tips\n",
      "0  4b1d5405f964a520d70e24e3  Liman Restaurant     98     8.4    38\n",
      "( 4 / 22 ) processed\n",
      "                         ID                     Name  Likes  Rating  Tips\n",
      "0  4a060d32f964a520b1721fe3  Taci's Beyti Restaurant    249     8.7    68\n",
      "( 5 / 22 ) processed\n",
      "                         ID              Name  Likes  Rating  Tips\n",
      "0  4b1d5405f964a520d70e24e3  Liman Restaurant     98     8.4    38\n",
      "( 6 / 22 ) processed\n",
      "                         ID               Name  Likes  Rating  Tips\n",
      "0  4fcbfc92e4b088c92e7e97ad  Opera Cafe Lounge    256     8.2    54\n",
      "( 7 / 22 ) processed\n",
      "                         ID                              Name  Likes  Rating  \\\n",
      "0  4a986cf5f964a520f32b20e3  Istanbul Restaurant Fish & Kebab     35     7.7   \n",
      "\n",
      "   Tips  \n",
      "0    15  \n",
      "( 8 / 22 ) processed\n",
      "                         ID                                     Name  Likes  \\\n",
      "0  4aef96d2f964a5206fd921e3  Istanbul Turkish Fast Food & Restaurant     69   \n",
      "\n",
      "   Rating  Tips  \n",
      "0     7.6    39  \n",
      "( 9 / 22 ) processed\n",
      "                         ID          Name  Likes  Rating  Tips\n",
      "0  579d3e7c498effa33c0450af  Istanbul Bay     23     8.2     4\n",
      "( 10 / 22 ) processed\n",
      "                         ID              Name  Likes  Rating  Tips\n",
      "0  4b1d5405f964a520d70e24e3  Liman Restaurant     98     8.4    38\n",
      "( 11 / 22 ) processed\n",
      "                         ID               Name  Likes  Rating  Tips\n",
      "0  4fcbfc92e4b088c92e7e97ad  Opera Cafe Lounge    256     8.2    54\n",
      "( 12 / 22 ) processed\n",
      "                         ID                     Name  Likes  Rating  Tips\n",
      "0  4a060d32f964a520b1721fe3  Taci's Beyti Restaurant    249     8.7    68\n",
      "( 13 / 22 ) processed\n",
      "                         ID                             Name  Likes  Rating  \\\n",
      "0  479309d9f964a520564d1fe3  Bodrum Mediterranean Restaurant    129     8.3   \n",
      "\n",
      "   Tips  \n",
      "0    49  \n",
      "( 14 / 22 ) processed\n",
      "                         ID              Name  Likes  Rating  Tips\n",
      "0  4b1d5405f964a520d70e24e3  Liman Restaurant     98     8.4    38\n",
      "( 15 / 22 ) processed\n",
      "                         ID               Name  Likes  Rating  Tips\n",
      "0  4fcbfc92e4b088c92e7e97ad  Opera Cafe Lounge    256     8.2    54\n",
      "( 16 / 22 ) processed\n",
      "                         ID     Name  Likes  Rating  Tips\n",
      "0  5cb11a0766f3cd002c371624  Lokanta     20     8.5     8\n",
      "( 17 / 22 ) processed\n",
      "                         ID     Name  Likes  Rating  Tips\n",
      "0  50fc9a88e4b04cfffaebe2cf  Sip Sak    282     8.8    99\n",
      "( 18 / 22 ) processed\n",
      "                         ID          Name  Likes  Rating  Tips\n",
      "0  4a75dd5af964a52076e11fe3  Mangal Kebab     68     8.2    37\n",
      "( 19 / 22 ) processed\n",
      "                         ID              Name  Likes  Rating  Tips\n",
      "0  4b1d5405f964a520d70e24e3  Liman Restaurant     98     8.4    38\n",
      "( 20 / 22 ) processed\n",
      "                         ID                     Name  Likes  Rating  Tips\n",
      "0  4a060d32f964a520b1721fe3  Taci's Beyti Restaurant    249     8.7    68\n",
      "( 21 / 22 ) processed\n",
      "                         ID                     Name  Likes  Rating  Tips\n",
      "0  4a060d32f964a520b1721fe3  Taci's Beyti Restaurant    249     8.7    68\n",
      "( 22 / 22 ) processed\n"
     ]
    }
   ],
   "source": [
    "# prepare neighborhood list that contains indian resturants\n",
    "column_names=['Borough', 'Neighborhood', 'ID','Name','Likes','Rating','Tips']\n",
    "turk_rest_stats_ny=pd.DataFrame(columns=column_names)\n",
    "count=1\n",
    "\n",
    "\n",
    "for row in turk_rest_ny_csv.values.tolist():\n",
    "    Borough,Neighborhood,ID,Name=row\n",
    "    try:\n",
    "        venue_details=get_venue_details(ID)\n",
    "        print(venue_details)\n",
    "        id,name,likes,rating,tips=venue_details.values.tolist()[0]\n",
    "    except IndexError:\n",
    "        print('No data available for id=',ID)\n",
    "        # we will assign 0 value for these resturants as they may have been \n",
    "        #recently opened or details does not exist in FourSquare Database\n",
    "        id,name,likes,rating,tips=[0]*5\n",
    "    print('(',count,'/',len(turk_rest_ny_csv),')','processed')\n",
    "    turk_rest_stats_ny = turk_rest_stats_ny.append({'Borough': Borough,\n",
    "                                                'Neighborhood': Neighborhood, \n",
    "                                                'ID': id,\n",
    "                                                'Name' : name,\n",
    "                                                'Likes' : likes,\n",
    "                                                'Rating' : rating,\n",
    "                                                'Tips' : tips\n",
    "                                               }, ignore_index=True)\n",
    "    count+=1"
   ]
  },
  {
   "cell_type": "code",
   "execution_count": 25,
   "metadata": {},
   "outputs": [
    {
     "data": {
      "text/html": [
       "<div>\n",
       "<style scoped>\n",
       "    .dataframe tbody tr th:only-of-type {\n",
       "        vertical-align: middle;\n",
       "    }\n",
       "\n",
       "    .dataframe tbody tr th {\n",
       "        vertical-align: top;\n",
       "    }\n",
       "\n",
       "    .dataframe thead th {\n",
       "        text-align: right;\n",
       "    }\n",
       "</style>\n",
       "<table border=\"1\" class=\"dataframe\">\n",
       "  <thead>\n",
       "    <tr style=\"text-align: right;\">\n",
       "      <th></th>\n",
       "      <th>Borough</th>\n",
       "      <th>Neighborhood</th>\n",
       "      <th>ID</th>\n",
       "      <th>Name</th>\n",
       "      <th>Likes</th>\n",
       "      <th>Rating</th>\n",
       "      <th>Tips</th>\n",
       "    </tr>\n",
       "  </thead>\n",
       "  <tbody>\n",
       "    <tr>\n",
       "      <th>0</th>\n",
       "      <td>Brooklyn</td>\n",
       "      <td>Bay Ridge</td>\n",
       "      <td>579d3e7c498effa33c0450af</td>\n",
       "      <td>Istanbul Bay</td>\n",
       "      <td>23</td>\n",
       "      <td>8.2</td>\n",
       "      <td>4</td>\n",
       "    </tr>\n",
       "    <tr>\n",
       "      <th>1</th>\n",
       "      <td>Brooklyn</td>\n",
       "      <td>Gravesend</td>\n",
       "      <td>51a2a2a3498e0d5d337f137b</td>\n",
       "      <td>Wood Spoon</td>\n",
       "      <td>5</td>\n",
       "      <td>7.2</td>\n",
       "      <td>3</td>\n",
       "    </tr>\n",
       "    <tr>\n",
       "      <th>2</th>\n",
       "      <td>Brooklyn</td>\n",
       "      <td>Sheepshead Bay</td>\n",
       "      <td>4fcbfc92e4b088c92e7e97ad</td>\n",
       "      <td>Opera Cafe Lounge</td>\n",
       "      <td>256</td>\n",
       "      <td>8.2</td>\n",
       "      <td>54</td>\n",
       "    </tr>\n",
       "    <tr>\n",
       "      <th>3</th>\n",
       "      <td>Brooklyn</td>\n",
       "      <td>Sheepshead Bay</td>\n",
       "      <td>4b1d5405f964a520d70e24e3</td>\n",
       "      <td>Liman Restaurant</td>\n",
       "      <td>98</td>\n",
       "      <td>8.4</td>\n",
       "      <td>38</td>\n",
       "    </tr>\n",
       "    <tr>\n",
       "      <th>4</th>\n",
       "      <td>Brooklyn</td>\n",
       "      <td>Manhattan Terrace</td>\n",
       "      <td>4a060d32f964a520b1721fe3</td>\n",
       "      <td>Taci's Beyti Restaurant</td>\n",
       "      <td>249</td>\n",
       "      <td>8.7</td>\n",
       "      <td>68</td>\n",
       "    </tr>\n",
       "  </tbody>\n",
       "</table>\n",
       "</div>"
      ],
      "text/plain": [
       "    Borough       Neighborhood                        ID  \\\n",
       "0  Brooklyn          Bay Ridge  579d3e7c498effa33c0450af   \n",
       "1  Brooklyn          Gravesend  51a2a2a3498e0d5d337f137b   \n",
       "2  Brooklyn     Sheepshead Bay  4fcbfc92e4b088c92e7e97ad   \n",
       "3  Brooklyn     Sheepshead Bay  4b1d5405f964a520d70e24e3   \n",
       "4  Brooklyn  Manhattan Terrace  4a060d32f964a520b1721fe3   \n",
       "\n",
       "                      Name Likes  Rating Tips  \n",
       "0             Istanbul Bay    23     8.2    4  \n",
       "1               Wood Spoon     5     7.2    3  \n",
       "2        Opera Cafe Lounge   256     8.2   54  \n",
       "3         Liman Restaurant    98     8.4   38  \n",
       "4  Taci's Beyti Restaurant   249     8.7   68  "
      ]
     },
     "execution_count": 25,
     "metadata": {},
     "output_type": "execute_result"
    }
   ],
   "source": [
    "turk_rest_stats_ny.head()"
   ]
  },
  {
   "cell_type": "code",
   "execution_count": 26,
   "metadata": {},
   "outputs": [
    {
     "data": {
      "text/plain": [
       "(22, 7)"
      ]
     },
     "execution_count": 26,
     "metadata": {},
     "output_type": "execute_result"
    }
   ],
   "source": [
    "turk_rest_stats_ny.shape"
   ]
  },
  {
   "cell_type": "code",
   "execution_count": 27,
   "metadata": {},
   "outputs": [],
   "source": [
    "turk_rest_stats_ny.to_csv('turk_rest_stats_ny.csv', index=False)"
   ]
  },
  {
   "cell_type": "code",
   "execution_count": 28,
   "metadata": {},
   "outputs": [],
   "source": [
    "turk_rest_stats_ny_csv=pd.read_csv('turk_rest_stats_ny.csv')\n"
   ]
  },
  {
   "cell_type": "code",
   "execution_count": 29,
   "metadata": {},
   "outputs": [
    {
     "data": {
      "text/html": [
       "<div>\n",
       "<style scoped>\n",
       "    .dataframe tbody tr th:only-of-type {\n",
       "        vertical-align: middle;\n",
       "    }\n",
       "\n",
       "    .dataframe tbody tr th {\n",
       "        vertical-align: top;\n",
       "    }\n",
       "\n",
       "    .dataframe thead th {\n",
       "        text-align: right;\n",
       "    }\n",
       "</style>\n",
       "<table border=\"1\" class=\"dataframe\">\n",
       "  <thead>\n",
       "    <tr style=\"text-align: right;\">\n",
       "      <th></th>\n",
       "      <th>Borough</th>\n",
       "      <th>Neighborhood</th>\n",
       "      <th>ID</th>\n",
       "      <th>Name</th>\n",
       "      <th>Likes</th>\n",
       "      <th>Rating</th>\n",
       "      <th>Tips</th>\n",
       "    </tr>\n",
       "  </thead>\n",
       "  <tbody>\n",
       "    <tr>\n",
       "      <th>0</th>\n",
       "      <td>Brooklyn</td>\n",
       "      <td>Bay Ridge</td>\n",
       "      <td>579d3e7c498effa33c0450af</td>\n",
       "      <td>Istanbul Bay</td>\n",
       "      <td>23</td>\n",
       "      <td>8.2</td>\n",
       "      <td>4</td>\n",
       "    </tr>\n",
       "    <tr>\n",
       "      <th>1</th>\n",
       "      <td>Brooklyn</td>\n",
       "      <td>Gravesend</td>\n",
       "      <td>51a2a2a3498e0d5d337f137b</td>\n",
       "      <td>Wood Spoon</td>\n",
       "      <td>5</td>\n",
       "      <td>7.2</td>\n",
       "      <td>3</td>\n",
       "    </tr>\n",
       "    <tr>\n",
       "      <th>2</th>\n",
       "      <td>Brooklyn</td>\n",
       "      <td>Sheepshead Bay</td>\n",
       "      <td>4fcbfc92e4b088c92e7e97ad</td>\n",
       "      <td>Opera Cafe Lounge</td>\n",
       "      <td>256</td>\n",
       "      <td>8.2</td>\n",
       "      <td>54</td>\n",
       "    </tr>\n",
       "    <tr>\n",
       "      <th>3</th>\n",
       "      <td>Brooklyn</td>\n",
       "      <td>Sheepshead Bay</td>\n",
       "      <td>4b1d5405f964a520d70e24e3</td>\n",
       "      <td>Liman Restaurant</td>\n",
       "      <td>98</td>\n",
       "      <td>8.4</td>\n",
       "      <td>38</td>\n",
       "    </tr>\n",
       "    <tr>\n",
       "      <th>4</th>\n",
       "      <td>Brooklyn</td>\n",
       "      <td>Manhattan Terrace</td>\n",
       "      <td>4a060d32f964a520b1721fe3</td>\n",
       "      <td>Taci's Beyti Restaurant</td>\n",
       "      <td>249</td>\n",
       "      <td>8.7</td>\n",
       "      <td>68</td>\n",
       "    </tr>\n",
       "  </tbody>\n",
       "</table>\n",
       "</div>"
      ],
      "text/plain": [
       "    Borough       Neighborhood                        ID  \\\n",
       "0  Brooklyn          Bay Ridge  579d3e7c498effa33c0450af   \n",
       "1  Brooklyn          Gravesend  51a2a2a3498e0d5d337f137b   \n",
       "2  Brooklyn     Sheepshead Bay  4fcbfc92e4b088c92e7e97ad   \n",
       "3  Brooklyn     Sheepshead Bay  4b1d5405f964a520d70e24e3   \n",
       "4  Brooklyn  Manhattan Terrace  4a060d32f964a520b1721fe3   \n",
       "\n",
       "                      Name  Likes  Rating  Tips  \n",
       "0             Istanbul Bay     23     8.2     4  \n",
       "1               Wood Spoon      5     7.2     3  \n",
       "2        Opera Cafe Lounge    256     8.2    54  \n",
       "3         Liman Restaurant     98     8.4    38  \n",
       "4  Taci's Beyti Restaurant    249     8.7    68  "
      ]
     },
     "execution_count": 29,
     "metadata": {},
     "output_type": "execute_result"
    }
   ],
   "source": [
    "turk_rest_stats_ny_csv.head()"
   ]
  },
  {
   "cell_type": "code",
   "execution_count": 30,
   "metadata": {},
   "outputs": [
    {
     "data": {
      "text/plain": [
       "(22, 7)"
      ]
     },
     "execution_count": 30,
     "metadata": {},
     "output_type": "execute_result"
    }
   ],
   "source": [
    "turk_rest_stats_ny_csv.shape"
   ]
  },
  {
   "cell_type": "code",
   "execution_count": 31,
   "metadata": {},
   "outputs": [
    {
     "name": "stdout",
     "output_type": "stream",
     "text": [
      "<class 'pandas.core.frame.DataFrame'>\n",
      "RangeIndex: 22 entries, 0 to 21\n",
      "Data columns (total 7 columns):\n",
      " #   Column        Non-Null Count  Dtype  \n",
      "---  ------        --------------  -----  \n",
      " 0   Borough       22 non-null     object \n",
      " 1   Neighborhood  22 non-null     object \n",
      " 2   ID            22 non-null     object \n",
      " 3   Name          22 non-null     object \n",
      " 4   Likes         22 non-null     int64  \n",
      " 5   Rating        22 non-null     float64\n",
      " 6   Tips          22 non-null     int64  \n",
      "dtypes: float64(1), int64(2), object(4)\n",
      "memory usage: 1.3+ KB\n"
     ]
    }
   ],
   "source": [
    "turk_rest_stats_ny_csv.info()"
   ]
  },
  {
   "cell_type": "markdown",
   "metadata": {},
   "source": [
    "\n",
    "Convert tips data type from string to float for easy to analyze."
   ]
  },
  {
   "cell_type": "code",
   "execution_count": 32,
   "metadata": {},
   "outputs": [],
   "source": [
    "turk_rest_stats_ny['Likes']=turk_rest_stats_ny['Likes'].astype('float64')\n",
    "turk_rest_stats_ny['Tips']=turk_rest_stats_ny['Tips'].astype('float64')"
   ]
  },
  {
   "cell_type": "code",
   "execution_count": 33,
   "metadata": {},
   "outputs": [
    {
     "name": "stdout",
     "output_type": "stream",
     "text": [
      "<class 'pandas.core.frame.DataFrame'>\n",
      "RangeIndex: 22 entries, 0 to 21\n",
      "Data columns (total 7 columns):\n",
      " #   Column        Non-Null Count  Dtype  \n",
      "---  ------        --------------  -----  \n",
      " 0   Borough       22 non-null     object \n",
      " 1   Neighborhood  22 non-null     object \n",
      " 2   ID            22 non-null     object \n",
      " 3   Name          22 non-null     object \n",
      " 4   Likes         22 non-null     float64\n",
      " 5   Rating        22 non-null     float64\n",
      " 6   Tips          22 non-null     float64\n",
      "dtypes: float64(3), object(4)\n",
      "memory usage: 1.3+ KB\n"
     ]
    }
   ],
   "source": [
    "turk_rest_stats_ny.info()"
   ]
  },
  {
   "cell_type": "markdown",
   "metadata": {},
   "source": [
    "\n",
    "Restaurant with maximum Likes"
   ]
  },
  {
   "cell_type": "code",
   "execution_count": 34,
   "metadata": {},
   "outputs": [
    {
     "data": {
      "text/plain": [
       "Borough                        Manhattan\n",
       "Neighborhood                  Turtle Bay\n",
       "ID              50fc9a88e4b04cfffaebe2cf\n",
       "Name                             Sip Sak\n",
       "Likes                                282\n",
       "Rating                               8.8\n",
       "Tips                                  99\n",
       "Name: 17, dtype: object"
      ]
     },
     "execution_count": 34,
     "metadata": {},
     "output_type": "execute_result"
    }
   ],
   "source": [
    "# Restaurant with maximum Likes\n",
    "turk_rest_stats_ny.iloc[turk_rest_stats_ny['Likes'].idxmax()]"
   ]
  },
  {
   "cell_type": "markdown",
   "metadata": {},
   "source": [
    "Restaurant with maximum Rating"
   ]
  },
  {
   "cell_type": "code",
   "execution_count": 35,
   "metadata": {},
   "outputs": [
    {
     "data": {
      "text/plain": [
       "Borough                        Manhattan\n",
       "Neighborhood                  Turtle Bay\n",
       "ID              50fc9a88e4b04cfffaebe2cf\n",
       "Name                             Sip Sak\n",
       "Likes                                282\n",
       "Rating                               8.8\n",
       "Tips                                  99\n",
       "Name: 17, dtype: object"
      ]
     },
     "execution_count": 35,
     "metadata": {},
     "output_type": "execute_result"
    }
   ],
   "source": [
    "# Restaurant with maximum Rating\n",
    "turk_rest_stats_ny.iloc[turk_rest_stats_ny['Rating'].idxmax()]"
   ]
  },
  {
   "cell_type": "code",
   "execution_count": 36,
   "metadata": {},
   "outputs": [
    {
     "data": {
      "text/plain": [
       "Borough                        Manhattan\n",
       "Neighborhood                  Turtle Bay\n",
       "ID              50fc9a88e4b04cfffaebe2cf\n",
       "Name                             Sip Sak\n",
       "Likes                                282\n",
       "Rating                               8.8\n",
       "Tips                                  99\n",
       "Name: 17, dtype: object"
      ]
     },
     "execution_count": 36,
     "metadata": {},
     "output_type": "execute_result"
    }
   ],
   "source": [
    "turk_rest_stats_ny.iloc[turk_rest_stats_ny['Tips'].idxmax()]"
   ]
  },
  {
   "cell_type": "markdown",
   "metadata": {},
   "source": [
    "Let's summarize average rating of Turkish restaurants in each neighborhood.\n"
   ]
  },
  {
   "cell_type": "code",
   "execution_count": 37,
   "metadata": {},
   "outputs": [],
   "source": [
    "ny_neighborhood_stats=turk_rest_stats_ny.groupby('Neighborhood',as_index=False).mean()[['Neighborhood','Rating']]\n",
    "ny_neighborhood_stats.columns=['Neighborhood','Average Rating']"
   ]
  },
  {
   "cell_type": "code",
   "execution_count": 38,
   "metadata": {},
   "outputs": [
    {
     "data": {
      "text/html": [
       "<div>\n",
       "<style scoped>\n",
       "    .dataframe tbody tr th:only-of-type {\n",
       "        vertical-align: middle;\n",
       "    }\n",
       "\n",
       "    .dataframe tbody tr th {\n",
       "        vertical-align: top;\n",
       "    }\n",
       "\n",
       "    .dataframe thead th {\n",
       "        text-align: right;\n",
       "    }\n",
       "</style>\n",
       "<table border=\"1\" class=\"dataframe\">\n",
       "  <thead>\n",
       "    <tr style=\"text-align: right;\">\n",
       "      <th></th>\n",
       "      <th>Neighborhood</th>\n",
       "      <th>Average Rating</th>\n",
       "    </tr>\n",
       "  </thead>\n",
       "  <tbody>\n",
       "    <tr>\n",
       "      <th>15</th>\n",
       "      <td>Turtle Bay</td>\n",
       "      <td>8.8</td>\n",
       "    </tr>\n",
       "    <tr>\n",
       "      <th>6</th>\n",
       "      <td>Homecrest</td>\n",
       "      <td>8.7</td>\n",
       "    </tr>\n",
       "    <tr>\n",
       "      <th>7</th>\n",
       "      <td>Madison</td>\n",
       "      <td>8.7</td>\n",
       "    </tr>\n",
       "    <tr>\n",
       "      <th>9</th>\n",
       "      <td>Manhattan Terrace</td>\n",
       "      <td>8.7</td>\n",
       "    </tr>\n",
       "    <tr>\n",
       "      <th>10</th>\n",
       "      <td>Ocean Parkway</td>\n",
       "      <td>8.7</td>\n",
       "    </tr>\n",
       "  </tbody>\n",
       "</table>\n",
       "</div>"
      ],
      "text/plain": [
       "         Neighborhood  Average Rating\n",
       "15         Turtle Bay             8.8\n",
       "6           Homecrest             8.7\n",
       "7             Madison             8.7\n",
       "9   Manhattan Terrace             8.7\n",
       "10      Ocean Parkway             8.7"
      ]
     },
     "execution_count": 38,
     "metadata": {},
     "output_type": "execute_result"
    }
   ],
   "source": [
    "ny_neighborhood_stats.sort_values(['Average Rating'],ascending=False).head()"
   ]
  },
  {
   "cell_type": "markdown",
   "metadata": {},
   "source": [
    "Let's summarize average rating of Turkish restuarants in each borough."
   ]
  },
  {
   "cell_type": "code",
   "execution_count": 39,
   "metadata": {},
   "outputs": [],
   "source": [
    "ny_borough_stats=turk_rest_stats_ny.groupby('Borough',as_index=False).mean()[['Borough','Rating']]\n",
    "ny_borough_stats.columns=['Borough','Average Rating']"
   ]
  },
  {
   "cell_type": "code",
   "execution_count": 40,
   "metadata": {},
   "outputs": [
    {
     "data": {
      "text/html": [
       "<div>\n",
       "<style scoped>\n",
       "    .dataframe tbody tr th:only-of-type {\n",
       "        vertical-align: middle;\n",
       "    }\n",
       "\n",
       "    .dataframe tbody tr th {\n",
       "        vertical-align: top;\n",
       "    }\n",
       "\n",
       "    .dataframe thead th {\n",
       "        text-align: right;\n",
       "    }\n",
       "</style>\n",
       "<table border=\"1\" class=\"dataframe\">\n",
       "  <thead>\n",
       "    <tr style=\"text-align: right;\">\n",
       "      <th></th>\n",
       "      <th>Borough</th>\n",
       "      <th>Average Rating</th>\n",
       "    </tr>\n",
       "  </thead>\n",
       "  <tbody>\n",
       "    <tr>\n",
       "      <th>1</th>\n",
       "      <td>Manhattan</td>\n",
       "      <td>8.550000</td>\n",
       "    </tr>\n",
       "    <tr>\n",
       "      <th>2</th>\n",
       "      <td>Queens</td>\n",
       "      <td>8.340000</td>\n",
       "    </tr>\n",
       "    <tr>\n",
       "      <th>0</th>\n",
       "      <td>Brooklyn</td>\n",
       "      <td>8.233333</td>\n",
       "    </tr>\n",
       "  </tbody>\n",
       "</table>\n",
       "</div>"
      ],
      "text/plain": [
       "     Borough  Average Rating\n",
       "1  Manhattan        8.550000\n",
       "2     Queens        8.340000\n",
       "0   Brooklyn        8.233333"
      ]
     },
     "execution_count": 40,
     "metadata": {},
     "output_type": "execute_result"
    }
   ],
   "source": [
    "ny_borough_stats.sort_values(['Average Rating'],ascending=False).head()"
   ]
  },
  {
   "cell_type": "markdown",
   "metadata": {},
   "source": [
    "Visualize average rating of Turkish restuarants for each borough."
   ]
  },
  {
   "cell_type": "code",
   "execution_count": 41,
   "metadata": {},
   "outputs": [
    {
     "data": {
      "image/png": "[encoded data removed]",
      "text/plain": [
       "<Figure size 900x500 with 1 Axes>"
      ]
     },
     "metadata": {
      "needs_background": "light"
     },
     "output_type": "display_data"
    }
   ],
   "source": [
    "plt.figure(figsize=(9,5), dpi = 100)\n",
    "# title\n",
    "plt.title('Average rating of Turkish Resturants for each Borough')\n",
    "#On x-axis\n",
    "plt.xlabel('Borough', fontsize = 15)\n",
    "#On y-axis\n",
    "plt.ylabel('Average Rating', fontsize=15)\n",
    "#giving a bar plot\n",
    "turk_rest_stats_ny.groupby('Borough').mean()['Rating'].plot(kind='bar')\n",
    "#legend\n",
    "plt.legend()\n",
    "#displays the plot\n",
    "plt.show()"
   ]
  },
  {
   "cell_type": "markdown",
   "metadata": {},
   "source": [
    "Select only neighborhoods which average rating more than 8.5\n",
    "\n"
   ]
  },
  {
   "cell_type": "code",
   "execution_count": 42,
   "metadata": {},
   "outputs": [
    {
     "data": {
      "text/html": [
       "<div>\n",
       "<style scoped>\n",
       "    .dataframe tbody tr th:only-of-type {\n",
       "        vertical-align: middle;\n",
       "    }\n",
       "\n",
       "    .dataframe tbody tr th {\n",
       "        vertical-align: top;\n",
       "    }\n",
       "\n",
       "    .dataframe thead th {\n",
       "        text-align: right;\n",
       "    }\n",
       "</style>\n",
       "<table border=\"1\" class=\"dataframe\">\n",
       "  <thead>\n",
       "    <tr style=\"text-align: right;\">\n",
       "      <th></th>\n",
       "      <th>Neighborhood</th>\n",
       "      <th>Average Rating</th>\n",
       "    </tr>\n",
       "  </thead>\n",
       "  <tbody>\n",
       "    <tr>\n",
       "      <th>6</th>\n",
       "      <td>Homecrest</td>\n",
       "      <td>8.7</td>\n",
       "    </tr>\n",
       "    <tr>\n",
       "      <th>7</th>\n",
       "      <td>Madison</td>\n",
       "      <td>8.7</td>\n",
       "    </tr>\n",
       "    <tr>\n",
       "      <th>9</th>\n",
       "      <td>Manhattan Terrace</td>\n",
       "      <td>8.7</td>\n",
       "    </tr>\n",
       "    <tr>\n",
       "      <th>10</th>\n",
       "      <td>Ocean Parkway</td>\n",
       "      <td>8.7</td>\n",
       "    </tr>\n",
       "    <tr>\n",
       "      <th>11</th>\n",
       "      <td>Ravenswood</td>\n",
       "      <td>8.5</td>\n",
       "    </tr>\n",
       "    <tr>\n",
       "      <th>15</th>\n",
       "      <td>Turtle Bay</td>\n",
       "      <td>8.8</td>\n",
       "    </tr>\n",
       "  </tbody>\n",
       "</table>\n",
       "</div>"
      ],
      "text/plain": [
       "         Neighborhood  Average Rating\n",
       "6           Homecrest             8.7\n",
       "7             Madison             8.7\n",
       "9   Manhattan Terrace             8.7\n",
       "10      Ocean Parkway             8.7\n",
       "11         Ravenswood             8.5\n",
       "15         Turtle Bay             8.8"
      ]
     },
     "execution_count": 42,
     "metadata": {},
     "output_type": "execute_result"
    }
   ],
   "source": [
    "ny_neighborhood_stats=ny_neighborhood_stats[ny_neighborhood_stats['Average Rating']>=8.5]\n",
    "ny_neighborhood_stats"
   ]
  },
  {
   "cell_type": "markdown",
   "metadata": {},
   "source": [
    "Merge high average rating neighborhoods with their latitude and longitude to visualize in map.\n",
    "\n"
   ]
  },
  {
   "cell_type": "code",
   "execution_count": 43,
   "metadata": {},
   "outputs": [],
   "source": [
    "ny_neighborhood_stats=pd.merge(ny_neighborhood_stats,neighborhoods, on='Neighborhood')"
   ]
  },
  {
   "cell_type": "code",
   "execution_count": 44,
   "metadata": {},
   "outputs": [],
   "source": [
    "ny_neighborhood_stats=ny_neighborhood_stats[['Borough','Neighborhood','Latitude','Longitude','Average Rating']]"
   ]
  },
  {
   "cell_type": "code",
   "execution_count": 45,
   "metadata": {},
   "outputs": [
    {
     "data": {
      "text/html": [
       "<div>\n",
       "<style scoped>\n",
       "    .dataframe tbody tr th:only-of-type {\n",
       "        vertical-align: middle;\n",
       "    }\n",
       "\n",
       "    .dataframe tbody tr th {\n",
       "        vertical-align: top;\n",
       "    }\n",
       "\n",
       "    .dataframe thead th {\n",
       "        text-align: right;\n",
       "    }\n",
       "</style>\n",
       "<table border=\"1\" class=\"dataframe\">\n",
       "  <thead>\n",
       "    <tr style=\"text-align: right;\">\n",
       "      <th></th>\n",
       "      <th>Borough</th>\n",
       "      <th>Neighborhood</th>\n",
       "      <th>Latitude</th>\n",
       "      <th>Longitude</th>\n",
       "      <th>Average Rating</th>\n",
       "    </tr>\n",
       "  </thead>\n",
       "  <tbody>\n",
       "    <tr>\n",
       "      <th>0</th>\n",
       "      <td>Brooklyn</td>\n",
       "      <td>Homecrest</td>\n",
       "      <td>40.598525</td>\n",
       "      <td>-73.959185</td>\n",
       "      <td>8.7</td>\n",
       "    </tr>\n",
       "    <tr>\n",
       "      <th>1</th>\n",
       "      <td>Brooklyn</td>\n",
       "      <td>Madison</td>\n",
       "      <td>40.609378</td>\n",
       "      <td>-73.948415</td>\n",
       "      <td>8.7</td>\n",
       "    </tr>\n",
       "    <tr>\n",
       "      <th>2</th>\n",
       "      <td>Brooklyn</td>\n",
       "      <td>Manhattan Terrace</td>\n",
       "      <td>40.614433</td>\n",
       "      <td>-73.957438</td>\n",
       "      <td>8.7</td>\n",
       "    </tr>\n",
       "    <tr>\n",
       "      <th>3</th>\n",
       "      <td>Brooklyn</td>\n",
       "      <td>Ocean Parkway</td>\n",
       "      <td>40.613060</td>\n",
       "      <td>-73.968367</td>\n",
       "      <td>8.7</td>\n",
       "    </tr>\n",
       "    <tr>\n",
       "      <th>4</th>\n",
       "      <td>Queens</td>\n",
       "      <td>Ravenswood</td>\n",
       "      <td>40.761705</td>\n",
       "      <td>-73.931575</td>\n",
       "      <td>8.5</td>\n",
       "    </tr>\n",
       "    <tr>\n",
       "      <th>5</th>\n",
       "      <td>Manhattan</td>\n",
       "      <td>Turtle Bay</td>\n",
       "      <td>40.752042</td>\n",
       "      <td>-73.967708</td>\n",
       "      <td>8.8</td>\n",
       "    </tr>\n",
       "  </tbody>\n",
       "</table>\n",
       "</div>"
      ],
      "text/plain": [
       "     Borough       Neighborhood   Latitude  Longitude  Average Rating\n",
       "0   Brooklyn          Homecrest  40.598525 -73.959185             8.7\n",
       "1   Brooklyn            Madison  40.609378 -73.948415             8.7\n",
       "2   Brooklyn  Manhattan Terrace  40.614433 -73.957438             8.7\n",
       "3   Brooklyn      Ocean Parkway  40.613060 -73.968367             8.7\n",
       "4     Queens         Ravenswood  40.761705 -73.931575             8.5\n",
       "5  Manhattan         Turtle Bay  40.752042 -73.967708             8.8"
      ]
     },
     "execution_count": 45,
     "metadata": {},
     "output_type": "execute_result"
    }
   ],
   "source": [
    "ny_neighborhood_stats"
   ]
  },
  {
   "cell_type": "markdown",
   "metadata": {},
   "source": [
    "Visualize the location of each neighborhood which highest average rating in the map."
   ]
  },
  {
   "cell_type": "code",
   "execution_count": 46,
   "metadata": {},
   "outputs": [],
   "source": [
    "\n",
    "\n",
    "address='New York City, NY'\n",
    "def geo_location(address):\n",
    "    # get geo location of address\n",
    "    geolocator = Nominatim(user_agent=\"foursquare_agent\")\n",
    "    location = geolocator.geocode(address)\n",
    "    latitude = location.latitude\n",
    "    longitude = location.longitude\n",
    "    return latitude,longitude\n",
    "\n"
   ]
  },
  {
   "cell_type": "code",
   "execution_count": 47,
   "metadata": {},
   "outputs": [],
   "source": [
    "ny_map = folium.Map(location=geo_location('New York'), zoom_start=12)"
   ]
  },
  {
   "cell_type": "code",
   "execution_count": 48,
   "metadata": {},
   "outputs": [],
   "source": [
    "# instantiate a feature group for the incidents in the dataframe\n",
    "turk_res = folium.map.FeatureGroup()\n",
    "\n",
    "# loop through the neighborhood and add each to the feature group\n",
    "for lat, lng, in ny_neighborhood_stats[['Latitude','Longitude']].values:\n",
    "    turk_res.add_child(\n",
    "        folium.CircleMarker(\n",
    "            [lat, lng],\n",
    "            radius=10, # define how big you want the circle markers to be\n",
    "            color='yellow',\n",
    "            fill=True,\n",
    "            fill_color='blue',\n",
    "            fill_opacity=0.6\n",
    "        )\n",
    "    )"
   ]
  },
  {
   "cell_type": "code",
   "execution_count": 49,
   "metadata": {},
   "outputs": [],
   "source": [
    "ny_neighborhood_stats['Label']=ny_neighborhood_stats['Neighborhood']+', '+ny_neighborhood_stats['Borough']+'('+ny_neighborhood_stats['Average Rating'].map(str)+')'"
   ]
  },
  {
   "cell_type": "code",
   "execution_count": 50,
   "metadata": {},
   "outputs": [
    {
     "data": {
      "text/html": [
       "<div style=\"width:100%;\"><div style=\"position:relative;width:100%;height:0;padding-bottom:60%;\"><span style=\"color:#565656\">Make this Notebook Trusted to load map: File -> Trust Notebook</span><iframe src=\"about:blank\" style=\"position:absolute;width:100%;height:100%;left:0;top:0;border:none !important;\" data-html=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 onload=\"this.contentDocument.open();this.contentDocument.write(atob(this.getAttribute('data-html')));this.contentDocument.close();\" allowfullscreen webkitallowfullscreen mozallowfullscreen></iframe></div></div>"
      ],
      "text/plain": [
       "<folium.folium.Map at 0x7f49ef7e4e10>"
      ]
     },
     "execution_count": 50,
     "metadata": {},
     "output_type": "execute_result"
    }
   ],
   "source": [
    "# add pop-up text to each marker on the map\n",
    "for lat, lng, label in ny_neighborhood_stats[['Latitude','Longitude','Label']].values:\n",
    "    folium.Marker([lat, lng], popup=label).add_to(ny_map)        \n",
    "# add incidents to map\n",
    "ny_map.add_child(turk_res)"
   ]
  },
  {
   "cell_type": "markdown",
   "metadata": {},
   "source": [
    "Conclusion\n",
    "\n",
    "as we can see the best place that has best rated Turkish restaurant in venu of Turtle Bay in manhattan , so this is the best place where this turkish torrist can locate"
   ]
  },
  {
   "cell_type": "code",
   "execution_count": null,
   "metadata": {},
   "outputs": [],
   "source": []
  },
  {
   "cell_type": "code",
   "execution_count": null,
   "metadata": {},
   "outputs": [],
   "source": []
  }
 ],
 "metadata": {
  "kernelspec": {
   "display_name": "Python",
   "language": "python",
   "name": "conda-env-python-py"
  },
  "language_info": {
   "codemirror_mode": {
    "name": "ipython",
    "version": 3
   },
   "file_extension": ".py",
   "mimetype": "text/x-python",
   "name": "python",
   "nbconvert_exporter": "python",
   "pygments_lexer": "ipython3",
   "version": "3.6.11"
  }
 },
 "nbformat": 4,
 "nbformat_minor": 4
}
